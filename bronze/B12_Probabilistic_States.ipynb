{
  "cells": [
    {
      "cell_type": "markdown",
      "metadata": {
        "id": "FnuvzUa4A7Bb"
      },
      "source": [
        "<table width=\"100%\"> <tr>\n",
        "        <td  style=\"background-color:#ffffff;\">\n",
        "            <a href=\"http://qworld.lu.lv\" target=\"_blank\"><img src=\"https://github.com/ozlemsalehi/bronze/blob/master/images/qworld.jpg?raw=1\" width=\"35%\" align=\"left\"> </a></td>\n",
        "        <td style=\"background-color:#ffffff;vertical-align:bottom;text-align:right;\">\n",
        "            prepared by Abuzer Yakaryilmaz (<a href=\"http://qworld.lu.lv/index.php/qlatvia/\" target=\"_blank\">QLatvia</a>)\n",
        "           </td>        \n",
        "</tr></table>"
      ]
    },
    {
      "cell_type": "markdown",
      "metadata": {
        "id": "W-JLtMkKA7Bd"
      },
      "source": [
        "<table width=\"100%\"><tr><td style=\"color:#bbbbbb;background-color:#ffffff;font-size:11px;font-style:italic;text-align:right;\">This cell contains some macros. If there is a problem with displaying mathematical formulas, please run this cell to load these macros. </td></tr></table>\n",
        "$ \\newcommand{\\bra}[1]{\\langle #1|} $\n",
        "$ \\newcommand{\\ket}[1]{|#1\\rangle} $\n",
        "$ \\newcommand{\\braket}[2]{\\langle #1|#2\\rangle} $\n",
        "$ \\newcommand{\\dot}[2]{ #1 \\cdot #2} $\n",
        "$ \\newcommand{\\biginner}[2]{\\left\\langle #1,#2\\right\\rangle} $\n",
        "$ \\newcommand{\\mymatrix}[2]{\\left( \\begin{array}{#1} #2\\end{array} \\right)} $\n",
        "$ \\newcommand{\\myvector}[1]{\\mymatrix{c}{#1}} $\n",
        "$ \\newcommand{\\myrvector}[1]{\\mymatrix{r}{#1}} $\n",
        "$ \\newcommand{\\mypar}[1]{\\left( #1 \\right)} $\n",
        "$ \\newcommand{\\mybigpar}[1]{ \\Big( #1 \\Big)} $\n",
        "$ \\newcommand{\\sqrttwo}{\\frac{1}{\\sqrt{2}}} $\n",
        "$ \\newcommand{\\dsqrttwo}{\\dfrac{1}{\\sqrt{2}}} $\n",
        "$ \\newcommand{\\onehalf}{\\frac{1}{2}} $\n",
        "$ \\newcommand{\\donehalf}{\\dfrac{1}{2}} $\n",
        "$ \\newcommand{\\hadamard}{ \\mymatrix{rr}{ \\sqrttwo & \\sqrttwo \\\\ \\sqrttwo & -\\sqrttwo }} $\n",
        "$ \\newcommand{\\vzero}{\\myvector{1\\\\0}} $\n",
        "$ \\newcommand{\\vone}{\\myvector{0\\\\1}} $\n",
        "$ \\newcommand{\\vhadamardzero}{\\myvector{ \\sqrttwo \\\\  \\sqrttwo } } $\n",
        "$ \\newcommand{\\vhadamardone}{ \\myrvector{ \\sqrttwo \\\\ -\\sqrttwo } } $\n",
        "$ \\newcommand{\\myarray}[2]{ \\begin{array}{#1}#2\\end{array}} $\n",
        "$ \\newcommand{\\X}{ \\mymatrix{cc}{0 & 1 \\\\ 1 & 0}  } $\n",
        "$ \\newcommand{\\Z}{ \\mymatrix{rr}{1 & 0 \\\\ 0 & -1}  } $\n",
        "$ \\newcommand{\\Htwo}{ \\mymatrix{rrrr}{ \\frac{1}{2} & \\frac{1}{2} & \\frac{1}{2} & \\frac{1}{2} \\\\ \\frac{1}{2} & -\\frac{1}{2} & \\frac{1}{2} & -\\frac{1}{2} \\\\ \\frac{1}{2} & \\frac{1}{2} & -\\frac{1}{2} & -\\frac{1}{2} \\\\ \\frac{1}{2} & -\\frac{1}{2} & -\\frac{1}{2} & \\frac{1}{2} } } $\n",
        "$ \\newcommand{\\CNOT}{ \\mymatrix{cccc}{1 & 0 & 0 & 0 \\\\ 0 & 1 & 0 & 0 \\\\ 0 & 0 & 0 & 1 \\\\ 0 & 0 & 1 & 0} } $\n",
        "$ \\newcommand{\\norm}[1]{ \\left\\lVert #1 \\right\\rVert } $"
      ]
    },
    {
      "cell_type": "markdown",
      "metadata": {
        "id": "1gKMyypIA7Be"
      },
      "source": [
        "<h2> Probabilistic States </h2>"
      ]
    },
    {
      "cell_type": "markdown",
      "metadata": {
        "id": "Xl8TqRvoA7Be"
      },
      "source": [
        "Suppose that we have a system with 4 distinguishable states: $ s_1 $, $s_2 $, $s_3$, and $s_4$.  \n",
        "\n",
        "We expect the system to be in one of them at any moment. \n",
        "\n",
        "By using the language of probability, we can also say that the system is in one of the states with probability 1, and in any other state with probabilty 0. \n",
        "\n",
        "Then, by using our column representation, we can show each state as a column vector (by using the vectors in standard basis of $ \\mathbb{R}^4 $):\n",
        "\n",
        "$$\n",
        "    e_1 = \\myvector{1\\\\ 0 \\\\ 0 \\\\ 0}, e_2 = \\myvector{0 \\\\ 1 \\\\ 0 \\\\ 0}, e_3 = \\myvector{0 \\\\ 0 \\\\ 1 \\\\ 0}, \n",
        "    \\mbox{ and } e_4 = \\myvector{0 \\\\ 0 \\\\ 0 \\\\ 1}.\n",
        "$$"
      ]
    },
    {
      "cell_type": "markdown",
      "metadata": {
        "id": "hcVH-QcDA7Bf"
      },
      "source": [
        "This representation helps us to represent our knowledge on a system when it is in more than one state with certain probabilities. \n",
        "\n",
        "Remember the case in which the coins are tossed secretly. \n",
        "\n",
        "For example, suppose that the system is in state $ s_1 $, $ s_2 $, $ s_3 $, and $ s_4 $ with probabilities $ 0.20 $, $ 0.25 $, $ 0.40 $, and $ 0.15 $, respectively. \n",
        "\n",
        "(<i>The total probability should be 1, i.e., $ 0.20+0.25+0.40+0.15 = 1.00 $</i>)\n",
        "\n",
        "Then, we can say that the system is in the following probabilistic state:\n",
        "\n",
        "$$ 0.20 \\cdot e_1 + 0.25 \\cdot e2 + 0.40 \\cdot e_3 + 0.15 \\cdot e4 $$\n",
        "\n",
        "$$ =  0.20 \\cdot \\myvector{1\\\\ 0 \\\\ 0 \\\\ 0} + 0.25 \\cdot \\myvector{0\\\\ 1 \\\\ 0 \\\\ 0} + 0.40 \\cdot \\myvector{0\\\\ 0 \\\\ 1 \\\\ 0} + 0.15 \\cdot  \\myvector{0\\\\ 0 \\\\ 0 \\\\ 1}  \n",
        "$$\n",
        "\n",
        "$$ = \\myvector{0.20\\\\ 0 \\\\ 0 \\\\ 0} +   \\myvector{0\\\\ 0.25 \\\\ 0 \\\\ 0} +  \\myvector{0\\\\ 0 \\\\0.40 \\\\ 0} +  \\myvector{0\\\\ 0 \\\\ 0 \\\\ 0.15 } = \\myvector{ 0.20 \\\\ 0.25 \\\\ 0.40 \\\\ 0.15 }, $$\n",
        "\n",
        "where the summation of entries must be 1."
      ]
    },
    {
      "cell_type": "markdown",
      "metadata": {
        "id": "PyyDTcWFA7Bf"
      },
      "source": [
        "<h3> Probabilistic state </h3>\n",
        "\n",
        "A probabilistic state is a linear combination of the vectors in the standard basis. \n",
        "    \n",
        "Here coefficients (scalars) must satisfy certain properties:\n",
        "<ol>\n",
        "    <li> Each coefficient is non-negative </li>\n",
        "    <li> The summation of the coefficients is 1 </li>\n",
        "</ol>\n",
        "\n",
        "\n",
        "Alternatively, we can say that a probabilistic state is a probability distribution over deterministic states.\n",
        "\n",
        "We can show all information as a single mathematical object, which is called as a   <font color=\"blue\"> stochastic </font> vector.\n",
        "\n",
        "<i> Remark that the state of any linear system is a linear combination of the vectors in the picked basis. </i> "
      ]
    },
    {
      "cell_type": "markdown",
      "metadata": {
        "id": "OYIQ_asXA7Bf"
      },
      "source": [
        "<h3> Task 1 </h3>\n",
        "\n",
        "For a system with 4 states, randomly create a probabilistic state, and print its entries, e.g., $ 0.16~~0.17~~0.02~~0.65 $.\n",
        "\n",
        "<i>Hint: You may pick your random numbers between 0 and 100 (or 1000), and then normalize each value by dividing the summation of all numbers.</i>"
      ]
    },
    {
      "cell_type": "code",
      "execution_count": 5,
      "metadata": {
        "id": "WE89pOWRA7Bg",
        "outputId": "c4c69d08-b557-4636-9575-08456826be45",
        "colab": {
          "base_uri": "https://localhost:8080/"
        }
      },
      "outputs": [
        {
          "output_type": "stream",
          "name": "stdout",
          "text": [
            "States: [0.3215686274509804, 0.21176470588235294, 0.19607843137254902, 0.27058823529411763]\n",
            "Total probability: 1.0\n"
          ]
        }
      ],
      "source": [
        "#my solution\n",
        "from random import randrange\n",
        "states=[]\n",
        "normalization_factor=0\n",
        "\n",
        "#picking random numbers, appending to states and adding to normalization_factor\n",
        "for i in range(4):\n",
        "  random_num=randrange(101)\n",
        "  states.append(random_num)\n",
        "  normalization_factor+=random_num\n",
        "\n",
        "#normalization states by dividing normalization_factor\n",
        "for i in range(len(states)):\n",
        "  states[i]=states[i]/normalization_factor\n",
        "\n",
        "#printing the values\n",
        "print(\"States:\",states)\n",
        "print(\"Total probability:\",sum(states))"
      ]
    },
    {
      "cell_type": "markdown",
      "metadata": {
        "id": "7_7UtbM6A7Bh"
      },
      "source": [
        "<a href=\"B12_Probabilistic_States_Solutions.ipynb#task1\">click for our solution</a>"
      ]
    },
    {
      "cell_type": "markdown",
      "metadata": {
        "id": "ynDqxpJPA7Bh"
      },
      "source": [
        "<h3> Task 2 (Optional) </h3>\n",
        "\n",
        "In the hint given for Task 1, you may pick your random numbers between 0 and $ 10^k $. For better precision, you can take bigger values of $ k $.\n",
        "\n",
        "Write a function that randomly creates a probabilisitic state of size $ n $ with a precision up to $ k $ digits. \n",
        "\n",
        "Test your function."
      ]
    },
    {
      "cell_type": "code",
      "execution_count": 17,
      "metadata": {
        "id": "oLciqnTfA7Bi",
        "outputId": "c592cd1b-09d4-4987-9236-61959b1022c5",
        "colab": {
          "base_uri": "https://localhost:8080/"
        }
      },
      "outputs": [
        {
          "output_type": "stream",
          "name": "stdout",
          "text": [
            "States: [0.38, 0.08, 0.27, 0.27]\n",
            "Total probability: 1.0\n"
          ]
        }
      ],
      "source": [
        "#my solution\n",
        "from random import randrange\n",
        "\n",
        "def create_random_states(n,k):\n",
        "  states=[]\n",
        "  normalization_factor=0\n",
        "  upper_limit=pow(10,k)\n",
        "  for i in range(n):\n",
        "    random_number=randrange(upper_limit+1)\n",
        "    states.append(random_number)\n",
        "    normalization_factor+=random_number\n",
        "  #normalization of states\n",
        "  for i in range(len(states)):\n",
        "    states[i]=round(states[i]/normalization_factor,k)\n",
        "  return states\n",
        "\n",
        "states=create_random_states(4,2)\n",
        "print(\"States:\",states)\n",
        "print(\"Total probability:\",sum(states))\n"
      ]
    }
  ],
  "metadata": {
    "kernelspec": {
      "display_name": "Python 3",
      "language": "python",
      "name": "python3"
    },
    "language_info": {
      "codemirror_mode": {
        "name": "ipython",
        "version": 3
      },
      "file_extension": ".py",
      "mimetype": "text/x-python",
      "name": "python",
      "nbconvert_exporter": "python",
      "pygments_lexer": "ipython3",
      "version": "3.8.5"
    },
    "colab": {
      "name": "B12_Probabilistic_States.ipynb",
      "provenance": []
    }
  },
  "nbformat": 4,
  "nbformat_minor": 0
}