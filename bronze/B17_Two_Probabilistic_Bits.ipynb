{
  "cells": [
    {
      "cell_type": "markdown",
      "metadata": {
        "id": "EkI_yzBQSwSa"
      },
      "source": [
        "<table width=\"100%\"> <tr>\n",
        "        <td  style=\"background-color:#ffffff;\">\n",
        "            <a href=\"http://qworld.lu.lv\" target=\"_blank\"><img src=\"https://github.com/ozlemsalehi/bronze/blob/master/images/qworld.jpg?raw=1\" width=\"35%\" align=\"left\"> </a></td>\n",
        "        <td style=\"background-color:#ffffff;vertical-align:bottom;text-align:right;\">\n",
        "            prepared by Abuzer Yakaryilmaz (<a href=\"http://qworld.lu.lv/index.php/qlatvia/\" target=\"_blank\">QLatvia</a>)\n",
        "            <br>\n",
        "            updated by Özlem Salehi | August 23, 2019\n",
        "        </td>        \n",
        "</tr></table>"
      ]
    },
    {
      "cell_type": "markdown",
      "metadata": {
        "id": "l3v_sBH8SwSd"
      },
      "source": [
        "<table width=\"100%\"><tr><td style=\"color:#bbbbbb;background-color:#ffffff;font-size:11px;font-style:italic;text-align:right;\">This cell contains some macros. If there is a problem with displaying mathematical formulas, please run this cell to load these macros. </td></tr></table>\n",
        "$ \\newcommand{\\bra}[1]{\\langle #1|} $\n",
        "$ \\newcommand{\\ket}[1]{|#1\\rangle} $\n",
        "$ \\newcommand{\\braket}[2]{\\langle #1|#2\\rangle} $\n",
        "$ \\newcommand{\\dot}[2]{ #1 \\cdot #2} $\n",
        "$ \\newcommand{\\biginner}[2]{\\left\\langle #1,#2\\right\\rangle} $\n",
        "$ \\newcommand{\\mymatrix}[2]{\\left( \\begin{array}{#1} #2\\end{array} \\right)} $\n",
        "$ \\newcommand{\\myvector}[1]{\\mymatrix{c}{#1}} $\n",
        "$ \\newcommand{\\myrvector}[1]{\\mymatrix{r}{#1}} $\n",
        "$ \\newcommand{\\mypar}[1]{\\left( #1 \\right)} $\n",
        "$ \\newcommand{\\mybigpar}[1]{ \\Big( #1 \\Big)} $\n",
        "$ \\newcommand{\\sqrttwo}{\\frac{1}{\\sqrt{2}}} $\n",
        "$ \\newcommand{\\dsqrttwo}{\\dfrac{1}{\\sqrt{2}}} $\n",
        "$ \\newcommand{\\onehalf}{\\frac{1}{2}} $\n",
        "$ \\newcommand{\\donehalf}{\\dfrac{1}{2}} $\n",
        "$ \\newcommand{\\hadamard}{ \\mymatrix{rr}{ \\sqrttwo & \\sqrttwo \\\\ \\sqrttwo & -\\sqrttwo }} $\n",
        "$ \\newcommand{\\vzero}{\\myvector{1\\\\0}} $\n",
        "$ \\newcommand{\\vone}{\\myvector{0\\\\1}} $\n",
        "$ \\newcommand{\\vhadamardzero}{\\myvector{ \\sqrttwo \\\\  \\sqrttwo } } $\n",
        "$ \\newcommand{\\vhadamardone}{ \\myrvector{ \\sqrttwo \\\\ -\\sqrttwo } } $\n",
        "$ \\newcommand{\\myarray}[2]{ \\begin{array}{#1}#2\\end{array}} $\n",
        "$ \\newcommand{\\X}{ \\mymatrix{cc}{0 & 1 \\\\ 1 & 0}  } $\n",
        "$ \\newcommand{\\Z}{ \\mymatrix{rr}{1 & 0 \\\\ 0 & -1}  } $\n",
        "$ \\newcommand{\\Htwo}{ \\mymatrix{rrrr}{ \\frac{1}{2} & \\frac{1}{2} & \\frac{1}{2} & \\frac{1}{2} \\\\ \\frac{1}{2} & -\\frac{1}{2} & \\frac{1}{2} & -\\frac{1}{2} \\\\ \\frac{1}{2} & \\frac{1}{2} & -\\frac{1}{2} & -\\frac{1}{2} \\\\ \\frac{1}{2} & -\\frac{1}{2} & -\\frac{1}{2} & \\frac{1}{2} } } $\n",
        "$ \\newcommand{\\CNOT}{ \\mymatrix{cccc}{1 & 0 & 0 & 0 \\\\ 0 & 1 & 0 & 0 \\\\ 0 & 0 & 0 & 1 \\\\ 0 & 0 & 1 & 0} } $\n",
        "$ \\newcommand{\\norm}[1]{ \\left\\lVert #1 \\right\\rVert } $\n",
        "$ \\newcommand{\\pstate}[1]{ \\lceil \\mspace{-1mu} #1 \\mspace{-1.5mu} \\rfloor } $"
      ]
    },
    {
      "cell_type": "markdown",
      "metadata": {
        "id": "Gtb6q3c3SwSf"
      },
      "source": [
        "<h2> Two Probabilistic Bits</h2>\n",
        "\n",
        "Suppose that we have two probabilistic bits, and our probabilistic states respectively are\n",
        "\n",
        "$$ \\myvector{0.2 \\\\ 0.8} \\mbox{ and } \\myvector{0.6 \\\\ 0.4 }. $$\n",
        "\n",
        "If we combine both bits as a single system, then what is the state of the combined system?"
      ]
    },
    {
      "cell_type": "markdown",
      "metadata": {
        "id": "YLsDNqCNSwSg"
      },
      "source": [
        "In total, we have four different states. We can name them as follows:\n",
        "<ul>\n",
        "    <li> <b>00</b>: both bits are in states 0</li>\n",
        "    <li> <b>01</b>: the first bit is in state 0 and the second bit is in state 1</li>\n",
        "    <li> <b>10</b>: the first bit is in state 1 and the second bit is in state 0</li>\n",
        "    <li> <b>11</b>: both bits are in states 1</li>\n",
        "</ul>"
      ]
    },
    {
      "cell_type": "markdown",
      "metadata": {
        "id": "mW3SXNycSwSh"
      },
      "source": [
        "<h3> Task 1 </h3>\n",
        "\n",
        "<b>Discussion and analysis:</b>\n",
        "\n",
        "What are the probabilities of being in states $ 00 $, $ 01 $, $ 10 $, and $11$?\n",
        "\n",
        "How can we represent these probabilities as a column vector?"
      ]
    },
    {
      "cell_type": "markdown",
      "metadata": {
        "id": "KG6nlPqNSwSh"
      },
      "source": [
        "<h3> Representation for states 0 and 1</h3>\n",
        "\n",
        "The vector representation of state 0 is $ \\myvector{1 \\\\ 0} $. Similarly, the vector representation of state 1 is $ \\myvector{0 \\\\ 1} $.\n",
        "\n",
        "We use $ \\pstate{0} $ to represent $ \\myvector{1 \\\\ 0} $ and $ \\pstate{1} $ to represent $ \\myvector{0 \\\\ 1} $.\n",
        "\n",
        "Then, the probabilistic state  $ \\myvector{a \\\\ b} $ is also represented as $ a \\pstate{0} + b \\pstate{1} $ "
      ]
    },
    {
      "cell_type": "markdown",
      "metadata": {
        "id": "TbAXSkduSwSi"
      },
      "source": [
        "<h3> Composite system </h3>\n",
        "\n",
        "When two systems are composed, then their states are <font color = \"blue\"> tensored </font> to calculate the state of composite system.\n",
        "\n",
        "Assume that, \n",
        "the probabilistic state of the first bit is $  \\myvector{0.2 \\\\ 0.8} = 0.2 \\pstate{0} + 0.8 \\pstate{1} $ and \n",
        "the probabilistic state of the second bit is $  \\myvector{0.6 \\\\ 0.4} = 0.6 \\pstate{0} + 0.4 \\pstate{1} $.\n",
        "\n",
        "Then, the probabilistic state of the composite system is given by $ \\big( 0.2 \\pstate{0} + 0.8 \\pstate{1} \\big) \\otimes  \\big( 0.6 \\pstate{0} + 0.4 \\pstate{1} \\big) $ where $\\otimes$ is called the <font color=\"blue\"> tensor product </font>."
      ]
    },
    {
      "cell_type": "markdown",
      "metadata": {
        "id": "pQ1Job1mSwSj"
      },
      "source": [
        "<h4> Tensor product </h4>\n",
        "\n",
        "Rule 1: $ p_x\\pstate{x} \\otimes p_y\\pstate{y} = p_x\\cdot p_y\\pstate{xy} $ , for $ x,y \\in \\{0,1\\} $.\n",
        "    \n",
        "Rule 2: Tensor product distributes over addition in the same way as the distribution of multiplication over addition.\n",
        "\n",
        "Tensor product of two vectors is then given by \n",
        "\n",
        " $ \\myvector{a_1 \\\\ b_1} \\otimes \\myvector{a_2 \\\\ b_2 } = \\myvector{ a_1 \\myvector{a_2 \\\\ b_2} \\\\ b_1 \\myvector{a_2 \\\\ b_2}  } = \\myvector{a_1 \\cdot a_2 \\\\ a_1 \\cdot b_2 \\\\ b_1 \\cdot a_2 \\\\ b_1 \\cdot b_2} $."
      ]
    },
    {
      "cell_type": "markdown",
      "metadata": {
        "id": "D_Ys71USSwSj"
      },
      "source": [
        "<h3> Task 2</h3>\n",
        "\n",
        "Find the vector representations of $ \\pstate{00} $, $ \\pstate{01} $, $\\pstate{10}$, and $ \\pstate{11} $.\n",
        "\n",
        "<i>The vector representation of $ \\pstate{ab} $ is $ \\pstate{a} \\otimes \\pstate{b} $ for $ a,b \\in \\{0,1\\} $.</i>"
      ]
    },
    {
      "cell_type": "markdown",
      "source": [
        "<h3><b>My answer:</b></h3>\n",
        "\n",
        "$\n",
        "  \\pstate{00} = \\pstate{0} \\otimes \\pstate{0} \n",
        "  = \\myvector{1 \\\\ 0} \\otimes \\myvector{1 \\\\ 0} \n",
        "  = \\myvector{1 \\cdot \\myvector{1 \\\\ 0} \\\\ 0 \\cdot \\myvector{1 \\\\ 0} } \n",
        "  = \\myvector{1 \\\\ 0 \\\\ 0 \\\\ 0 }\n",
        "$\n",
        "\n",
        "$\n",
        "  \\pstate{01} = \\pstate{0} \\otimes \\pstate{1} \n",
        "  = \\myvector{1 \\\\ 0} \\otimes \\myvector{0 \\\\ 1}\n",
        "  = \\myvector{1 \\cdot \\myvector {0 \\\\ 1} \\\\ 0 \\cdot \\myvector{0 \\\\ 1}} \n",
        "  = \\myvector{0 \\\\ 1 \\\\ 0 \\\\ 0}\n",
        "$\n",
        "\n",
        "$\n",
        "  \\pstate{10} = \\pstate{1} \\otimes \\pstate{0}\n",
        "  = \\myvector{0 \\\\ 1 } \\otimes \\myvector{1 \\\\ 0}\n",
        "  = \\myvector{0 \\cdot \\myvector{1 \\\\ 0} \\\\ 1 \\cdot \\myvector{1 \\\\ 0}}\n",
        "  = \\myvector{0 \\\\ 0 \\\\ 1 \\\\ 0} \n",
        "$\n",
        "\n",
        "$ \n",
        "  \\pstate{11} = \\pstate{1} \\otimes \\pstate{1}\n",
        "  = \\myvector{0 \\\\ 1 } \\otimes \\myvector{0 \\\\ 1}\n",
        "  = \\myvector{0 \\cdot \\myvector{0 \\\\ 1} \\\\ 1 \\cdot \\myvector{0 \\\\ 1}}\n",
        "  = \\myvector{0 \\\\ 0 \\\\ 0 \\\\ 1} \n",
        "$"
      ],
      "metadata": {
        "id": "0YCU8rgDAaF5"
      }
    },
    {
      "cell_type": "markdown",
      "metadata": {
        "id": "o1V70fviSwSk"
      },
      "source": [
        "<a href=\"B17_Two_Probabilistic_Bits_Solutions.ipynb#task2\">click for our solution</a>"
      ]
    },
    {
      "cell_type": "markdown",
      "metadata": {
        "id": "FwEW-xqoSwSk"
      },
      "source": [
        "<h3> Task 3 </h3>\n",
        "\n",
        "Find the probabilistic state of the composite system $ \\big( 0.2 \\pstate{0} + 0.8 \\pstate{1} \\big) \\otimes  \\big( 0.6 \\pstate{0} + 0.4 \\pstate{1} \\big) $.\n"
      ]
    },
    {
      "cell_type": "markdown",
      "source": [
        "<h3><b>My answer:</b></h3>\n",
        "<h4>\n",
        "$\n",
        "  (0.2 \\pstate{0} + 0.8 \\pstate{1}) \\otimes (0.6 \\pstate{0} + 0.4\\pstate{1})=\\\\\n",
        "   0.12(\\pstate{0} \\otimes \\pstate{0}) + 0.08(\\pstate{0} \\otimes \\pstate{1}) +\n",
        "   0.48(\\pstate{1} \\otimes \\pstate{0}) + 0.32(\\pstate{1} \\otimes \\pstate{1})=\\\\\n",
        "   0.12 \\pstate{00} + 0.08 \\pstate{01} + 0.48 \\pstate{10} + 0.32 \\pstate{11}\n",
        "$"
      ],
      "metadata": {
        "id": "rxLtyy_AFZlw"
      }
    },
    {
      "cell_type": "markdown",
      "metadata": {
        "id": "LmPjjF2OSwSl"
      },
      "source": [
        "<a href=\"B17_Two_Probabilistic_Bits_Solutions.ipynb#task3\">click for our solution</a>"
      ]
    },
    {
      "cell_type": "markdown",
      "metadata": {
        "id": "npuNERdhSwSl"
      },
      "source": [
        "<h3> Task 4</h3>\n",
        "\n",
        "Find the probabilistic state of the composite system by calculating this tensor product $ \\myvector{0.2 \\\\ 0.8} \\otimes \\myvector{0.6 \\\\ 0.4 } $."
      ]
    },
    {
      "cell_type": "markdown",
      "source": [
        "<h3><b>My answer:</b></h3>\n",
        "$ \n",
        "  \\myvector{0.2 \\\\ 0.8} \\otimes \\myvector{0.6 \\\\ 0.4 }\n",
        "  = \\myvector{ 0.2 \\myvector{0.6 \\\\ 0.4} \\\\ 0.8 \\myvector{0.6 \\\\ 0.4} }\n",
        "  = \\myvector{ 0.12 \\\\ 0.08 \\\\ 0.48 \\\\ 0.32 }\n",
        "$\n"
      ],
      "metadata": {
        "id": "FdamYTgHMlTV"
      }
    },
    {
      "cell_type": "markdown",
      "metadata": {
        "id": "Uyw9hN1iSwSl"
      },
      "source": [
        "<a href=\"B17_Two_Probabilistic_Bits_Solutions.ipynb#task4\">click for our solution</a>"
      ]
    },
    {
      "cell_type": "markdown",
      "metadata": {
        "id": "vcJ0yMcgSwSm"
      },
      "source": [
        "<h3> Task 5 [extra] </h3>\n",
        "\n",
        "Suppose that we have three bits.\n",
        "\n",
        "Find the vector representations of $ \\pstate{abc} $ for each $ a,b,c \\in \\{0,1\\} $."
      ]
    },
    {
      "cell_type": "markdown",
      "metadata": {
        "id": "geQC97HKSwSm"
      },
      "source": [
        "<h3> Task 6 [extra] </h3>\n",
        "\n",
        "<i>This is a challenging task.</i>\n",
        "\n",
        "Suppose that we have four bits. \n",
        "\n",
        "Number 9 is represented as $ 1001 $ in binary. Verify that the vector representation of $ \\pstate{1001} $ is the zero vector except its $10$th entry, which is 1.\n",
        "\n",
        "Number 7 is represented as $ 0111 $ in binary. Verify that the vector representation of $ \\pstate{0111} $ is the zero vector except its $8$th entry, which is 1.\n",
        "\n",
        "Generalize this idea for any number between 0 and 15.\n",
        "\n",
        "Generalize this idea for any number of bits."
      ]
    },
    {
      "cell_type": "markdown",
      "metadata": {
        "id": "1ZOgMvFJSwSm"
      },
      "source": [
        "<hr>"
      ]
    },
    {
      "cell_type": "markdown",
      "metadata": {
        "id": "M5tkub-HSwSn"
      },
      "source": [
        "<h3>Freivalds (Optional)</h3>\n",
        "\n",
        "Freivalds is a probabilistic system with two bits."
      ]
    },
    {
      "cell_type": "markdown",
      "metadata": {
        "id": "vb1blLHuSwSn"
      },
      "source": [
        "<h3> Freivalds' initial state </h3>\n",
        "\n",
        "Freivalds starts in state $ \\myvector{ 0.5 \\\\ 0 \\\\ 0.5 \\\\ 0 } $.\n",
        "\n",
        "Freivalds reads the strings composed by $ a $'s and $ b $'s symbol by symbol."
      ]
    },
    {
      "cell_type": "markdown",
      "metadata": {
        "id": "xqTUdCBUSwSn"
      },
      "source": [
        "<h3> Freivalds reads symbol $ a $</h3>\n",
        "\n",
        "When in the state $ 00 $ and reading an $ a $, Freivalds switches to states $ 01 $ and $ 11 $ with probabilities $ 0.25 $ and stays in state $ 00 $ with probability $ 0.5 $. \n",
        "\n",
        "When in any other state and reading an $ a $, Freivalds stays in the same state with probability 1.\n",
        "\n",
        "Thus, we can define a probabilistic operator $ A $ for Freivalds when reading an $ a $."
      ]
    },
    {
      "cell_type": "markdown",
      "metadata": {
        "id": "V1PHpDH2SwSn"
      },
      "source": [
        "<h3>Task 7 </h3>\n",
        "\n",
        "Is A the following matrix?\n",
        "\n",
        "$$\n",
        "    A = \\mymatrix{rccc}{ 0.5 & 0 & 0 & 0 \\\\ 0.25 & 1 & 0 & 0 \\\\ 0 & 0 & 1 & 0 \\\\ 0.25 & 0 & 0 & 1 }.\n",
        "$$\n",
        "\n",
        "<i> The columns and rows correspond to the states in order of $ 00 $, $ 01 $, $ 10 $, and $ 11 $.</i>"
      ]
    },
    {
      "cell_type": "markdown",
      "metadata": {
        "id": "7rpeee5_SwSo"
      },
      "source": [
        "<h3> Freivalds reads symbol $ b $</h3>\n",
        "\n",
        "When in the state $ 10 $ and reading a $ b $, Freivalds switches to states $ 01 $ and $ 11 $ with probabilities $ 0.25 $ and stays in state $ 10 $ with probability $ 0.5 $. \n",
        "\n",
        "When in any other state and reading a $ b $, Freivalds stays in the same state with probability 1.\n",
        "\n",
        "Thus, we can define a probabilistic operator $ B $ for Freivalds when reading a $ b $."
      ]
    },
    {
      "cell_type": "markdown",
      "metadata": {
        "id": "973CGEBlSwSo"
      },
      "source": [
        "<h3>Task 8 </h3>\n",
        "\n",
        "Is B the following matrix?\n",
        "\n",
        "$$\n",
        "    B = \\mymatrix{rccc}{ 1 & 0 & 0 & 0 \\\\ 0 & 1 & 0.25 & 0 \\\\ 0 & 0 & 0.5 & 0 \\\\ 0 & 0 & 0.25 & 1 }.\n",
        "$$"
      ]
    },
    {
      "cell_type": "markdown",
      "metadata": {
        "id": "hh3JDr3SSwSo"
      },
      "source": [
        "<h3> Task 9 </h3>\n",
        "\n",
        "A challenging task.\n",
        "\n",
        "Freivalds reads 50 random strings of length 40. \n",
        "\n",
        "Find the final probabilistic state for each string.\n",
        "\n",
        "Is there any relation between \n",
        "<ul>\n",
        "    <li>the numbers of $ a $'s and $ b $'s, say $ N_a $ and $ N_b $, and </li>\n",
        "    <li>the probabilities of the first bit being in zero and one, say $ p_0 $ and $ p_1 $?</li>\n",
        "</ul>\n",
        "More specifically:\n",
        "<ul>\n",
        "    <li> When $ N_a > N_b $, is $ p_0 < p_1 $ or $ p_0 > p_1 $? </li>\n",
        "    <li> When $ N_a < N_b $, is $ p_0 < p_1 $ or $ p_0 > p_1 $? </li>\n",
        "</ul>\n",
        "\n",
        "Or simply check the signs of $ (N_a - N_b) $ and $ (p_0-p_1) $ for each string.\n",
        "\n",
        "<i>Hint: The multiplication of two numbers with the same signs is a positive number, and the multiplication of two numbers with the opposite signs gives a negative number.</i>"
      ]
    },
    {
      "cell_type": "code",
      "execution_count": null,
      "metadata": {
        "id": "RbhRpxsWSwSp"
      },
      "outputs": [],
      "source": [
        "# the initial state\n",
        "initial = [0.5, 0, 0.5, 0]\n",
        "\n",
        "# probabilistic operator for symbol a\n",
        "A = [\n",
        "    [0.5,  0, 0, 0],\n",
        "    [0.25, 1, 0, 0],\n",
        "    [0,    0, 1, 0],\n",
        "    [0.25, 0, 0, 1]\n",
        "]\n",
        "\n",
        "# probabilistic operator for symbol b\n",
        "B = [\n",
        "    [1, 0, 0,    0],\n",
        "    [0, 1, 0.25, 0],\n",
        "    [0, 0, 0.5,  0],\n",
        "    [0, 0, 0.25, 1]\n",
        "]\n",
        "\n",
        "#\n",
        "# your solution is here\n",
        "#"
      ]
    },
    {
      "cell_type": "markdown",
      "metadata": {
        "id": "Yev1sqD1SwSq"
      },
      "source": [
        "<a href=\"B17_Two_Probabilistic_Bits_Solutions.ipynb#task9\">click for our solution</a>"
      ]
    }
  ],
  "metadata": {
    "kernelspec": {
      "display_name": "Python 3",
      "language": "python",
      "name": "python3"
    },
    "language_info": {
      "codemirror_mode": {
        "name": "ipython",
        "version": 3
      },
      "file_extension": ".py",
      "mimetype": "text/x-python",
      "name": "python",
      "nbconvert_exporter": "python",
      "pygments_lexer": "ipython3",
      "version": "3.8.5"
    },
    "colab": {
      "name": "B17_Two_Probabilistic_Bits.ipynb",
      "provenance": []
    }
  },
  "nbformat": 4,
  "nbformat_minor": 0
}