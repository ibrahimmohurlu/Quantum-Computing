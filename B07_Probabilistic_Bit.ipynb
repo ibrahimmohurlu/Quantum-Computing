{
  "cells": [
    {
      "cell_type": "markdown",
      "metadata": {
        "id": "view-in-github",
        "colab_type": "text"
      },
      "source": [
        "<a href=\"https://colab.research.google.com/github/ibrahimmohurlu/Quantum-Computing/blob/main/B07_Probabilistic_Bit.ipynb\" target=\"_parent\"><img src=\"https://colab.research.google.com/assets/colab-badge.svg\" alt=\"Open In Colab\"/></a>"
      ]
    },
    {
      "cell_type": "markdown",
      "metadata": {
        "id": "U4GCYM8qPep0"
      },
      "source": [
        "<table width=\"100%\"> <tr>\n",
        "        <td  style=\"background-color:#ffffff;\">\n",
        "            <a href=\"http://qworld.lu.lv\" target=\"_blank\"><img src=\"https://github.com/ozlemsalehi/bronze/blob/master/images/qworld.jpg?raw=1\" width=\"35%\" align=\"left\"> </a></td>\n",
        "        <td style=\"background-color:#ffffff;vertical-align:bottom;text-align:right;\">\n",
        "            prepared by Abuzer Yakaryilmaz (<a href=\"http://qworld.lu.lv/index.php/qlatvia/\" target=\"_blank\">QLatvia</a>)\n",
        "            <br>\n",
        "            updated by Özlem Salehi | July 1, 2019\n",
        "        </td>        \n",
        "</tr></table>"
      ]
    },
    {
      "cell_type": "markdown",
      "metadata": {
        "id": "oyZuPmD2Pep4"
      },
      "source": [
        "<table width=\"100%\"><tr><td style=\"color:#bbbbbb;background-color:#ffffff;font-size:11px;font-style:italic;text-align:right;\">This cell contains some macros. If there is a problem with displaying mathematical formulas, please run this cell to load these macros. </td></tr></table>\n",
        "$ \\newcommand{\\bra}[1]{\\langle #1|} $\n",
        "$ \\newcommand{\\ket}[1]{|#1\\rangle} $\n",
        "$ \\newcommand{\\braket}[2]{\\langle #1|#2\\rangle} $\n",
        "$ \\newcommand{\\dot}[2]{ #1 \\cdot #2} $\n",
        "$ \\newcommand{\\biginner}[2]{\\left\\langle #1,#2\\right\\rangle} $\n",
        "$ \\newcommand{\\mymatrix}[2]{\\left( \\begin{array}{#1} #2\\end{array} \\right)} $\n",
        "$ \\newcommand{\\myvector}[1]{\\mymatrix{c}{#1}} $\n",
        "$ \\newcommand{\\myrvector}[1]{\\mymatrix{r}{#1}} $\n",
        "$ \\newcommand{\\mypar}[1]{\\left( #1 \\right)} $\n",
        "$ \\newcommand{\\mybigpar}[1]{ \\Big( #1 \\Big)} $\n",
        "$ \\newcommand{\\sqrttwo}{\\frac{1}{\\sqrt{2}}} $\n",
        "$ \\newcommand{\\dsqrttwo}{\\dfrac{1}{\\sqrt{2}}} $\n",
        "$ \\newcommand{\\onehalf}{\\frac{1}{2}} $\n",
        "$ \\newcommand{\\donehalf}{\\dfrac{1}{2}} $\n",
        "$ \\newcommand{\\hadamard}{ \\mymatrix{rr}{ \\sqrttwo & \\sqrttwo \\\\ \\sqrttwo & -\\sqrttwo }} $\n",
        "$ \\newcommand{\\vzero}{\\myvector{1\\\\0}} $\n",
        "$ \\newcommand{\\vone}{\\myvector{0\\\\1}} $\n",
        "$ \\newcommand{\\vhadamardzero}{\\myvector{ \\sqrttwo \\\\  \\sqrttwo } } $\n",
        "$ \\newcommand{\\vhadamardone}{ \\myrvector{ \\sqrttwo \\\\ -\\sqrttwo } } $\n",
        "$ \\newcommand{\\myarray}[2]{ \\begin{array}{#1}#2\\end{array}} $\n",
        "$ \\newcommand{\\X}{ \\mymatrix{cc}{0 & 1 \\\\ 1 & 0}  } $\n",
        "$ \\newcommand{\\Z}{ \\mymatrix{rr}{1 & 0 \\\\ 0 & -1}  } $\n",
        "$ \\newcommand{\\Htwo}{ \\mymatrix{rrrr}{ \\frac{1}{2} & \\frac{1}{2} & \\frac{1}{2} & \\frac{1}{2} \\\\ \\frac{1}{2} & -\\frac{1}{2} & \\frac{1}{2} & -\\frac{1}{2} \\\\ \\frac{1}{2} & \\frac{1}{2} & -\\frac{1}{2} & -\\frac{1}{2} \\\\ \\frac{1}{2} & -\\frac{1}{2} & -\\frac{1}{2} & \\frac{1}{2} } } $\n",
        "$ \\newcommand{\\CNOT}{ \\mymatrix{cccc}{1 & 0 & 0 & 0 \\\\ 0 & 1 & 0 & 0 \\\\ 0 & 0 & 0 & 1 \\\\ 0 & 0 & 1 & 0} } $\n",
        "$ \\newcommand{\\norm}[1]{ \\left\\lVert #1 \\right\\rVert } $"
      ]
    },
    {
      "cell_type": "markdown",
      "metadata": {
        "id": "9buaFP0nPep5"
      },
      "source": [
        "<h2> Probabilistic Bit </h2>\n",
        "\n"
      ]
    },
    {
      "cell_type": "markdown",
      "metadata": {
        "id": "2do1CFNgPep6"
      },
      "source": [
        "A <b> probabilistic bit </b> is a bit that is equal to 0 with probability $Pr(0)$ and equal to 1 with probability\n",
        "$Pr(1)$, for some probabilities $Pr(0), Pr(1) \\geq 0$ such that $Pr(0) + Pr(1) = 1$"
      ]
    },
    {
      "cell_type": "markdown",
      "metadata": {
        "id": "7w16vhSwPep6"
      },
      "source": [
        "A coin is a probabilistic bit. After flipping a coin, we can get a Head by probability $Pr(Head)$ or a Tail by probability $Pr(Tail)$. We can represent these two cases by a single bit:\n",
        "<ul>    \n",
        "    <li> 0 represents Head </li>\n",
        "    <li> 1 represents Tail </li>\n",
        "</ul>"
      ]
    },
    {
      "cell_type": "markdown",
      "metadata": {
        "id": "ORraaxMKPep7"
      },
      "source": [
        "<h3> Vector Representation </h3>"
      ]
    },
    {
      "cell_type": "markdown",
      "metadata": {
        "id": "8VMmBjw7Pep8"
      },
      "source": [
        "Suppose that Asja flips a coin secretly.\n",
        "\n",
        "Because we do not see the result, our information about the outcome will be probabilistic:\n",
        "\n",
        "Since we have two different outcomes Head (0) and Tail (1), then, we can use a column vector of size 2 to hold the probabilities of getting Head and getting Tail. \n",
        "\n",
        "Hence, our knowledge about the outcome is $\\myvector{Pr(Head) \\\\ Pr(Tail)}$.\n",
        "\n",
        "The first entry shows the probability of getting Head, and the second entry shows the probability of getting Tail."
      ]
    },
    {
      "cell_type": "markdown",
      "metadata": {
        "id": "_AlXpCeXPep8"
      },
      "source": [
        "If the coin is fair,\n",
        "\n",
        "$\\rightarrow$ The result is Head with probability $0.5$ and the result is Tail with probability $0.5$.\n",
        "\n",
        "If the coin has a bias $ \\dfrac{Pr(Head)}{Pr(Tail)} = \\dfrac{3}{1}$, then our information about the outcome is as follows:\n",
        "\n",
        "$\\rightarrow$  The result is Head with probability $ 0.75 $ and the result is Tail with probability $ 0.25 $."
      ]
    },
    {
      "cell_type": "markdown",
      "metadata": {
        "id": "_dj6AvE0Pep9"
      },
      "source": [
        "\n",
        "For the fair coin, our information after the coin-flip is $ \\myvector{0.5 \\\\ 0.5} $. For the biased coin, it is $ \\myvector{0.75 \\\\ 0.25} $.\n",
        "\n",
        "\n",
        " $ \\myvector{0.5 \\\\ 0.5} $ and $ \\myvector{0.75 \\\\ 0.25} $ are two examples of 2-dimensional (column) vectors."
      ]
    },
    {
      "cell_type": "markdown",
      "metadata": {
        "id": "WHyfj1V7Pep-"
      },
      "source": [
        "<h3> Task 1 </h3>\n",
        "\n",
        "Suppose that Balvis secretly flips a coin having bias $ \\dfrac{Pr(Head)}{Pr(Tail)} = \\dfrac{1}{4}$.\n",
        "\n",
        "Represent your information about the outcome as a column vector."
      ]
    },
    {
      "cell_type": "markdown",
      "metadata": {
        "id": "ungYORkVPep-"
      },
      "source": [
        "<h3> Task 2 </h3>\n",
        "\n",
        "Suppose that Fyodor secretly rolls a loaded (tricky) dice with the bias \n",
        "\n",
        "$$ Pr(1):Pr(2):Pr(3):Pr(4):Pr(5):Pr(6) = 7:5:4:2:6:1 . $$\n",
        "\n",
        "Represent your information about the result as a column vector. Remark that the size of your column should be 6.\n",
        "\n",
        "You may use python for your calculations."
      ]
    },
    {
      "cell_type": "code",
      "execution_count": null,
      "metadata": {
        "id": "psyEINV3Pep_",
        "outputId": "fabe5935-c788-486b-886d-2d43d4be905b",
        "colab": {
          "base_uri": "https://localhost:8080/"
        }
      },
      "outputs": [
        {
          "output_type": "stream",
          "name": "stdout",
          "text": [
            "probability of rolling 1 = 0.28\n",
            "probability of rolling 2 = 0.2\n",
            "probability of rolling 3 = 0.16\n",
            "probability of rolling 4 = 0.08\n",
            "probability of rolling 5 = 0.24\n",
            "probability of rolling 6 = 0.04\n"
          ]
        }
      ],
      "source": [
        "rolls_of_dice=[7,5,4,2,6,1]\n",
        "total_roll=0\n",
        "#calculating how many times dice rolled\n",
        "for i in range(len(rolls_of_dice)):\n",
        "  total_roll+=rolls_of_dice[i]\n",
        "probability_vector=[]\n",
        "for i in range(len(rolls_of_dice)):\n",
        "  #calculating and appending the probabilities\n",
        "  probability_vector.append(rolls_of_dice[i]/total_roll)\n",
        "#printing probabilities\n",
        "for i in range(len(probability_vector)):\n",
        "  print(\"probability of rolling \"+ str(i+1) + \" = \" + str(probability_vector[i]))"
      ]
    },
    {
      "cell_type": "markdown",
      "metadata": {
        "id": "7dc3-YEYPeqA"
      },
      "source": [
        "<a href=\"B07_Probabilistic_Bit_Solutions.ipynb#task2\">click for our solution</a>"
      ]
    },
    {
      "cell_type": "markdown",
      "metadata": {
        "id": "UMBaQx0XPeqB"
      },
      "source": [
        "<h3> States 0 and 1</h3>\n",
        "\n",
        "\n",
        "The vector $\\myvector{a\\\\ b }$ where $a, b \\geq 0$ and $a + b =1$ represents a probabilistic system.\n",
        "\n",
        "$a$ is the probability of being in state 0 and the $b$ is the probability of being in state 1.\n",
        "\n",
        "\n",
        "The vector representation of state 0 is $ \\myvector{1 \\\\ 0} $. Similarly, the vector representation of state 1 is $ \\myvector{0 \\\\ 1} $.\n",
        "\n",
        "If we observe the outcome after flipping the coin, then our current knowledge is updated as either $ \\myvector{1 \\\\ 0} $ or $ \\myvector{0 \\\\ 1} $."
      ]
    },
    {
      "cell_type": "markdown",
      "metadata": {
        "id": "kUaZumniPeqB"
      },
      "source": [
        "<h3> Coin flipping as an operator </h3>\n",
        "\n",
        "Coin-flipping can be defined as an operator.\n",
        "\n",
        "<i>An operator, depending on the current state of the probabilistic bit, updates the state of probabilistic bit.</i> \n",
        "\n",
        "Let us look at the effect of coin flipping on the states Head and Tails."
      ]
    },
    {
      "cell_type": "markdown",
      "metadata": {
        "id": "984LUN1XPeqC"
      },
      "source": [
        "<ul>\n",
        "    <li> $ FairCoin(\\textbf{Head}) = \\frac{1}{2} \\textbf{Head} + \\frac{1}{2}\\textbf{Tail} $ </li>\n",
        "    <li> $ FairCoin(\\textbf{Tail}) = \\frac{1}{2} \\textbf{Head} + \\frac{1}{2}\\textbf{Tail} $ </li>\n",
        "</ul>\n",
        "<br>\n",
        "\n",
        "$\n",
        "FairCoin = \\begin{array}{c|cc}  \\mbox{Final}\\overset{\\LARGE\\setminus}{\\phantom{.}}\\overset{ \\mbox{Initial}}{\\phantom{l}} & \\mathbf{Head} & \\mathbf{Tail} \\\\ \\hline \\mathbf{Head} & \\dfrac{1}{2} & \\dfrac{1}{2} \\\\  \\mathbf{Tail} & \\dfrac{1}{2} & \\dfrac{1}{2}  \\end{array}\n",
        "$\n",
        "\n",
        "Or, by using 0 and 1:\n",
        "\n",
        "$\n",
        "FairCoin = \\begin{array}{c|cc} \\mbox{Final}\\overset{\\LARGE\\setminus}{\\phantom{.}}\\overset{ \\mbox{Initial}}  {\\phantom{l}}& \\mathbf{0} & \\mathbf{1} \\\\ \\hline \\mathbf{0} & \\dfrac{1}{2} & \\dfrac{1}{2} \\\\  \\mathbf{1} & \\dfrac{1}{2} & \\dfrac{1}{2}  \\end{array}\n",
        "$"
      ]
    },
    {
      "cell_type": "markdown",
      "metadata": {
        "id": "der_2pDcPeqD"
      },
      "source": [
        "<ul>\n",
        "    <li> $ BiasedCoin(\\textbf{Head}) = 0.6~\\textbf{Head} + 0.4~\\textbf{Tail} $ </li>\n",
        "    <li> $ BiasedCoin(\\textbf{Tail}) = 0.6~\\textbf{Head} + 0.4~\\textbf{Tail} $ </li>\n",
        "</ul>\n",
        "<br>\n"
      ]
    },
    {
      "cell_type": "markdown",
      "metadata": {
        "id": "z6Omcdg_PeqE"
      },
      "source": [
        "$\n",
        "BiasedCoin = \\begin{array}{c|cc} \\mbox{Final}\\overset{\\LARGE\\setminus}{\\phantom{.}}\\overset{ \\mbox{Initial}}  {\\phantom{l}}& \\mathbf{Head} & \\mathbf{Tail} \\\\ \\hline \\mathbf{Head} & 0.6 & 0.6 \\\\  \\mathbf{Tail} & 0.4 & 0.4  \\end{array}\n",
        "$\n",
        "\n",
        "Or, by using 0 and 1 as the states:\n",
        "\n",
        "$\n",
        "BiasedCoin = \\begin{array}{c|cc} \\mbox{Final}\\overset{\\LARGE\\setminus}{\\phantom{.}}\\overset{ \\mbox{Initial}}  {\\phantom{l}}& \\mathbf{0} & \\mathbf{1} \\\\ \\hline \\mathbf{0} & 0.6 & 0.6\\\\  \\mathbf{1} & 0.4 & 0.4 \\end{array}\n",
        "$"
      ]
    }
  ],
  "metadata": {
    "kernelspec": {
      "display_name": "Python 3",
      "language": "python",
      "name": "python3"
    },
    "language_info": {
      "codemirror_mode": {
        "name": "ipython",
        "version": 3
      },
      "file_extension": ".py",
      "mimetype": "text/x-python",
      "name": "python",
      "nbconvert_exporter": "python",
      "pygments_lexer": "ipython3",
      "version": "3.8.5"
    },
    "colab": {
      "name": "B07_Probabilistic_Bit.ipynb",
      "provenance": [],
      "include_colab_link": true
    }
  },
  "nbformat": 4,
  "nbformat_minor": 0
}