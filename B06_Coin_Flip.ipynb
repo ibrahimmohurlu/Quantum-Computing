{
  "cells": [
    {
      "cell_type": "markdown",
      "metadata": {
        "id": "8eIei5Yal1k9"
      },
      "source": [
        "<table width=\"100%\"> <tr>\n",
        "        <td  style=\"background-color:#ffffff;\">\n",
        "            <a href=\"http://qworld.lu.lv\" target=\"_blank\"><img src=\"https://github.com/ozlemsalehi/bronze/blob/master/images/qworld.jpg?raw=1\" width=\"35%\" align=\"left\"> </a></td>\n",
        "        <td style=\"background-color:#ffffff;vertical-align:bottom;text-align:right;\">\n",
        "            prepared by Abuzer Yakaryilmaz (<a href=\"http://qworld.lu.lv/index.php/qlatvia/\" target=\"_blank\">QLatvia</a>)\n",
        "            <br>\n",
        "            updated by Özlem Salehi | August 24, 2020\n",
        "        </td>        \n",
        "</tr></table>"
      ]
    },
    {
      "cell_type": "markdown",
      "metadata": {
        "id": "VRIFPx4dl1lO"
      },
      "source": [
        "<table width=\"100%\"><tr><td style=\"color:#bbbbbb;background-color:#ffffff;font-size:11px;font-style:italic;text-align:right;\">This cell contains some macros. If there is a problem with displaying mathematical formulas, please run this cell to load these macros. </td></tr></table>\n",
        "$ \\newcommand{\\bra}[1]{\\langle #1|} $\n",
        "$ \\newcommand{\\ket}[1]{|#1\\rangle} $\n",
        "$ \\newcommand{\\braket}[2]{\\langle #1|#2\\rangle} $\n",
        "$ \\newcommand{\\dot}[2]{ #1 \\cdot #2} $\n",
        "$ \\newcommand{\\biginner}[2]{\\left\\langle #1,#2\\right\\rangle} $\n",
        "$ \\newcommand{\\mymatrix}[2]{\\left( \\begin{array}{#1} #2\\end{array} \\right)} $\n",
        "$ \\newcommand{\\myvector}[1]{\\mymatrix{c}{#1}} $\n",
        "$ \\newcommand{\\myrvector}[1]{\\mymatrix{r}{#1}} $\n",
        "$ \\newcommand{\\mypar}[1]{\\left( #1 \\right)} $\n",
        "$ \\newcommand{\\mybigpar}[1]{ \\Big( #1 \\Big)} $\n",
        "$ \\newcommand{\\sqrttwo}{\\frac{1}{\\sqrt{2}}} $\n",
        "$ \\newcommand{\\dsqrttwo}{\\dfrac{1}{\\sqrt{2}}} $\n",
        "$ \\newcommand{\\onehalf}{\\frac{1}{2}} $\n",
        "$ \\newcommand{\\donehalf}{\\dfrac{1}{2}} $\n",
        "$ \\newcommand{\\hadamard}{ \\mymatrix{rr}{ \\sqrttwo & \\sqrttwo \\\\ \\sqrttwo & -\\sqrttwo }} $\n",
        "$ \\newcommand{\\vzero}{\\myvector{1\\\\0}} $\n",
        "$ \\newcommand{\\vone}{\\myvector{0\\\\1}} $\n",
        "$ \\newcommand{\\vhadamardzero}{\\myvector{ \\sqrttwo \\\\  \\sqrttwo } } $\n",
        "$ \\newcommand{\\vhadamardone}{ \\myrvector{ \\sqrttwo \\\\ -\\sqrttwo } } $\n",
        "$ \\newcommand{\\myarray}[2]{ \\begin{array}{#1}#2\\end{array}} $\n",
        "$ \\newcommand{\\X}{ \\mymatrix{cc}{0 & 1 \\\\ 1 & 0}  } $\n",
        "$ \\newcommand{\\Z}{ \\mymatrix{rr}{1 & 0 \\\\ 0 & -1}  } $\n",
        "$ \\newcommand{\\Htwo}{ \\mymatrix{rrrr}{ \\frac{1}{2} & \\frac{1}{2} & \\frac{1}{2} & \\frac{1}{2} \\\\ \\frac{1}{2} & -\\frac{1}{2} & \\frac{1}{2} & -\\frac{1}{2} \\\\ \\frac{1}{2} & \\frac{1}{2} & -\\frac{1}{2} & -\\frac{1}{2} \\\\ \\frac{1}{2} & -\\frac{1}{2} & -\\frac{1}{2} & \\frac{1}{2} } } $\n",
        "$ \\newcommand{\\CNOT}{ \\mymatrix{cccc}{1 & 0 & 0 & 0 \\\\ 0 & 1 & 0 & 0 \\\\ 0 & 0 & 0 & 1 \\\\ 0 & 0 & 1 & 0} } $\n",
        "$ \\newcommand{\\norm}[1]{ \\left\\lVert #1 \\right\\rVert } $"
      ]
    },
    {
      "cell_type": "markdown",
      "metadata": {
        "id": "-QHC_XlVl1lX"
      },
      "source": [
        "<h2> Coin Flipping </h2>\n",
        "\n",
        "\n",
        "A coin has two sides: <i>Head</i> and <i>Tail</i>.\n",
        "\n"
      ]
    },
    {
      "cell_type": "markdown",
      "metadata": {
        "id": "dzxs7NVhl1la"
      },
      "source": [
        "If our coin is fair, then the probabilities of obtaining a Head or a Tail are equal:\n",
        "\n",
        "$ Pr(Head) = Pr(Tail)= \\dfrac{1}{2} = 0.5 $.\n",
        "\n"
      ]
    },
    {
      "cell_type": "markdown",
      "metadata": {
        "id": "qMQ4wCTLl1lr"
      },
      "source": [
        "<h3>Pick a random number</h3>\n",
        "\n",
        "You will be asked to simulate a coin in the following task.\n",
        "\n",
        "Here is one of the methods to pick a random number in python."
      ]
    },
    {
      "cell_type": "code",
      "execution_count": null,
      "metadata": {
        "id": "vhDX-R0Ml1lt"
      },
      "outputs": [],
      "source": [
        "from random import randrange\n",
        "n = 20\n",
        "r=randrange(n) # pick a number from the list {0,1,...,n-1}\n",
        "print(r)\n",
        "\n",
        "# test this method by using a loop\n",
        "for i in range(10):\n",
        "    print(randrange(n))"
      ]
    },
    {
      "cell_type": "markdown",
      "metadata": {
        "id": "UIAlEuCcl1lx"
      },
      "source": [
        "<h3> Task 1: Simulating FairCoin in Python</h3>\n",
        "\n",
        "Flip a fair coin 100 times. Calcuate the total number of heads and tails, and then compare them.\n",
        "\n",
        "Do the same experiment 1000 times.\n",
        "\n",
        "Do the same experiment 10,000 times.\n",
        "\n",
        "Do the same experiment 100,000 times.\n",
        "\n",
        "Do your results get close to the ideal case (the numbers of heads and tails are the same)?"
      ]
    },
    {
      "cell_type": "code",
      "execution_count": null,
      "metadata": {
        "id": "BfWVamnYl1ly",
        "outputId": "363079db-fd66-48d6-af21-7bf84bb7f367",
        "colab": {
          "base_uri": "https://localhost:8080/"
        }
      },
      "outputs": [
        {
          "output_type": "stream",
          "name": "stdout",
          "text": [
            "experiment run 100 times\n",
            "heads= 46 tails= 54 ratio of heads/tails = 0.8518518518518519\n",
            "\n",
            "\n",
            "experiment run 1000 times\n",
            "heads= 464 tails= 536 ratio of heads/tails = 0.8656716417910447\n",
            "\n",
            "\n",
            "experiment run 10000 times\n",
            "heads= 4962 tails= 5038 ratio of heads/tails = 0.9849146486701071\n",
            "\n",
            "\n",
            "experiment run 100000 times\n",
            "heads= 50110 tails= 49890 ratio of heads/tails = 1.0044097013429545\n",
            "\n",
            "\n"
          ]
        }
      ],
      "source": [
        "from random import randrange\n",
        "run_times=[100,1_000,10_000,100_000]\n",
        "n=100\n",
        "\n",
        "for j in range(len(run_times)):\n",
        "  heads=0\n",
        "  tails=0\n",
        "  for i in range(run_times[j]):\n",
        "    random = randrange(n)\n",
        "    if random < 50:\n",
        "      tails+=1\n",
        "    else:\n",
        "      heads+=1\n",
        "  print(\"experiment run\",run_times[j],\"times\")\n",
        "  print(\"heads=\",heads,\"tails=\",tails,\"ratio of heads/tails =\",heads/tails)\n",
        "  print(\"\\n\")\n"
      ]
    },
    {
      "cell_type": "markdown",
      "metadata": {
        "id": "inYz1Lqcl1lz"
      },
      "source": [
        "<a href=\"B06_Coin_Flip_Solutions.ipynb#task1\">click for our solution</a>"
      ]
    },
    {
      "cell_type": "markdown",
      "metadata": {
        "id": "CiWO-2csl1l5"
      },
      "source": [
        "<h3> Flipping a biased coin </h3>\n",
        "\n",
        "Our coin may have a bias. \n",
        "\n",
        "For example, the probability of getting head may be greater than the probability of getting tail.\n",
        "\n",
        "Here is an example:\n",
        "\n",
        "$Pr(Head)=0.6 ~~ Pr(Tail)=0.4$"
      ]
    },
    {
      "cell_type": "markdown",
      "metadata": {
        "id": "eXl1PomIl1l9"
      },
      "source": [
        "<h3> Task 2: Simulating BiasedCoin in Python</h3>\n",
        "\n",
        "Flip the biased coin given above 100 times. Calcuate the total numbers of heads and tails, and then compare them.\n",
        "\n",
        "\n",
        "Do the same experiment 1000 times.\n",
        "\n",
        "Do the same experiment 10,000 times.\n",
        "\n",
        "Do the same experiment 100,000 times.\n",
        "\n",
        "Do your results get close to the ideal case $ \\mypar{ \\dfrac{ \\mbox{# of heads} }{ \\mbox{# of tails} } = \\dfrac{0.6}{0.4} = 1.50000000 } $?"
      ]
    },
    {
      "cell_type": "code",
      "execution_count": null,
      "metadata": {
        "id": "rvOOwYhPl1l-",
        "outputId": "9806a299-9b61-42b9-faa0-6c1e87bc0f93",
        "colab": {
          "base_uri": "https://localhost:8080/"
        }
      },
      "outputs": [
        {
          "output_type": "stream",
          "name": "stdout",
          "text": [
            "experiment run 100 times\n",
            "heads= 68 tails= 32 ratio of heads/tails = 2.125\n",
            "\n",
            "\n",
            "experiment run 1000 times\n",
            "heads= 578 tails= 422 ratio of heads/tails = 1.3696682464454977\n",
            "\n",
            "\n",
            "experiment run 10000 times\n",
            "heads= 5962 tails= 4038 ratio of heads/tails = 1.4764735017335315\n",
            "\n",
            "\n",
            "experiment run 100000 times\n",
            "heads= 60026 tails= 39974 ratio of heads/tails = 1.501626056937009\n",
            "\n",
            "\n"
          ]
        }
      ],
      "source": [
        "from random import randrange\n",
        "run_times=[100,1_000,10_000,100_000]\n",
        "n=100\n",
        "\n",
        "for j in range(len(run_times)):\n",
        "  heads=0\n",
        "  tails=0\n",
        "  for i in range(run_times[j]):\n",
        "    random = randrange(n)\n",
        "    if random < 40:\n",
        "      tails+=1\n",
        "    else:\n",
        "      heads+=1\n",
        "  print(\"experiment run\",run_times[j],\"times\")\n",
        "  print(\"heads=\",heads,\"tails=\",tails,\"ratio of heads/tails =\",heads/tails)\n",
        "  print(\"\\n\")"
      ]
    },
    {
      "cell_type": "markdown",
      "metadata": {
        "id": "rjgTlq3Cl1l_"
      },
      "source": [
        "<a href=\"B06_Coin_Flip_Solutions.ipynb#task2\">click for our solution</a>"
      ]
    },
    {
      "cell_type": "markdown",
      "metadata": {
        "id": "wvpCe9ZTl1mA"
      },
      "source": [
        "<h3> Programming a biased coin [extra] </h3>\n",
        "\n",
        "We use a simple method to create a biased coin.\n",
        "\n",
        "First, we pick a range for the precision of probabilities, say $ N $, as $ N = 11, 101, 1001, \\mbox{ or }, 10^k+1 $ for some $ k > 4 $.\n",
        "\n",
        "Second, we pick the bias, say $ B $, as an integer between 0 and $ N $.\n",
        "\n",
        "We fix $ N $ and $ B $.\n",
        "\n",
        "Third, we pick a random integer between 0 and $ N $:\n",
        "<ul>\n",
        "    <li> if it is less than $ B $, we say \"Head\" and </li>\n",
        "    <li> if it is equal to $ B $ or greater than $ B $, we say \"Tail\" </li>\n",
        "</ul>\n",
        "    \n",
        "In this way, we can have a biased coin \"landing\" head with probability $ \\frac{B}{N} $.\n",
        "\n",
        "Remark that we pick $ N = 10^k+1 $. In this way, the coin cannot be fair if $ B $ is an integer. ($ \\frac{10^k+1}{2} $ is not an integer.)"
      ]
    },
    {
      "cell_type": "markdown",
      "metadata": {
        "id": "d2SxsK3rl1mA"
      },
      "source": [
        "<h3> Task 3 </h3>\n",
        "\n",
        "Write a function to implement the described biased coin,\n",
        "\n",
        "The inputs are integers $ N >0 $ and $ 0 \\leq B < N $.\n",
        "\n",
        "The output is either \"Head\" or \"Tail\"."
      ]
    },
    {
      "cell_type": "code",
      "execution_count": null,
      "metadata": {
        "id": "0j1z1KEil1mB"
      },
      "outputs": [],
      "source": [
        "def biased_coin(N,B):\n",
        "    from random import randrange\n",
        "    num=randrange(N)\n",
        "    if num < B:\n",
        "      return \"Head\"\n",
        "    else:\n",
        "      return \"Tail\"\n"
      ]
    },
    {
      "cell_type": "markdown",
      "metadata": {
        "id": "RX9dzdLul1mB"
      },
      "source": [
        "<a href=\"B06_Coin_Flip_Solutions.ipynb#task3\">click for our solution</a>"
      ]
    },
    {
      "cell_type": "markdown",
      "metadata": {
        "id": "YGZJEAlJl1mC"
      },
      "source": [
        "<h3> Task 4</h3>\n",
        "\n",
        "We use the biased coin defined in Task 3. \n",
        "\n",
        "(You may use the one given in the solution.)\n",
        "\n",
        "We pick $ N $ as 101.\n",
        "\n",
        "We determine $ B $ randomly, and we do not check its value immediately.\n",
        "\n",
        "The task is to guess the bias by using the biased coin at most 500 times.\n",
        "\n",
        "Check the real bias, and calculate the error."
      ]
    },
    {
      "cell_type": "code",
      "execution_count": null,
      "metadata": {
        "id": "uoPRamQql1mD"
      },
      "outputs": [],
      "source": [
        "from random import randrange\n",
        "N = 101\n",
        "B = randrange(100)\n",
        "#\n",
        "# your solution is here\n",
        "#"
      ]
    },
    {
      "cell_type": "markdown",
      "metadata": {
        "id": "9ya5l7hol1mD"
      },
      "source": [
        "<a href=\"B06_Coin_Flip_Solutions.ipynb#task4\">click for our solution</a>"
      ]
    }
  ],
  "metadata": {
    "kernelspec": {
      "display_name": "Python 3",
      "language": "python",
      "name": "python3"
    },
    "language_info": {
      "codemirror_mode": {
        "name": "ipython",
        "version": 3
      },
      "file_extension": ".py",
      "mimetype": "text/x-python",
      "name": "python",
      "nbconvert_exporter": "python",
      "pygments_lexer": "ipython3",
      "version": "3.8.5"
    },
    "colab": {
      "name": "B06_Coin_Flip.ipynb adlı not defterinin kopyası",
      "provenance": []
    }
  },
  "nbformat": 4,
  "nbformat_minor": 0
}