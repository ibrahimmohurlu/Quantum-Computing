{
  "nbformat": 4,
  "nbformat_minor": 0,
  "metadata": {
    "colab": {
      "name": "Soruisaretleme.ipynb",
      "provenance": [],
      "authorship_tag": "ABX9TyNfIlB6jjHjRPZXn0FpwAwa",
      "include_colab_link": true
    },
    "kernelspec": {
      "name": "python3",
      "display_name": "Python 3"
    },
    "language_info": {
      "name": "python"
    }
  },
  "cells": [
    {
      "cell_type": "markdown",
      "metadata": {
        "id": "view-in-github",
        "colab_type": "text"
      },
      "source": [
        "<a href=\"https://colab.research.google.com/github/ibrahimmohurlu/Quantum-Computing/blob/main/Soruisaretleme.ipynb\" target=\"_parent\"><img src=\"https://colab.research.google.com/assets/colab-badge.svg\" alt=\"Open In Colab\"/></a>"
      ]
    },
    {
      "cell_type": "markdown",
      "source": [
        "<h2>Quantum Computing Örnek Uygulama</h2>\n",
        "<h4>H.İbrahim Möhürlü</h4>"
      ],
      "metadata": {
        "id": "5oNAOZzyB522"
      }
    },
    {
      "cell_type": "markdown",
      "source": [
        "Bir öğrencinin soru işaretleme olasılıkları özel durumlar dahil edilmeden şu şekildedir:\n",
        "\n",
        "*   Doğru işaretleme olasılığı 0.3.\n",
        "*   Yanlış işaretleme olasılığı 0.5.\n",
        "*   Boş bırakma olasılığı 0.2.\n",
        "\n",
        "\n",
        "$\n",
        "SoruIsaretleme = \\begin{array}{c|cc} & \n",
        "\\mathbf{D} & \\mathbf{Y} & \\mathbf{B}\\\\ \n",
        "\\hline \n",
        "\\mathbf{D} & 0.3 & 0.3 & 0.3 \\\\  \n",
        "\\mathbf{Y} & 0.5 & 0.5 & 0.5 \\\\\n",
        "\\mathbf{B} & 0.2 & 0.2 & 0.2 \\\\\n",
        "\\end{array}\n",
        "$\n"
      ],
      "metadata": {
        "id": "BhXifsuzptG5"
      }
    },
    {
      "cell_type": "markdown",
      "source": [
        "Bir öğrencinin soru işaretleme olasılıkları şu şekildedir:\n",
        "\n",
        "*   Doğru işaretleme olasılığı 0.3.\n",
        "*   Yanlış işaretleme olasılığı 0.5.\n",
        "*   Boş bırakma olasılığı 0.2.\n",
        "*   Özel durumlar\n",
        "    *   Doğru soru işaretledikten sonraki soruyu doğru işaretleme olasılığı azalıp 0.2 olurken yanlış işaretleme olasılığı 0.6 olmaktadır.\n",
        "    *  Yanlış soru işaretledikten sonraki soruyu yanlış işaretleme olasığı azalıp 0.4 olurken doğru işaretleme olasığı artarak 0.4 olmaktadır.\n",
        "    *   Boş soru bıraktıktan sonraki soruyu işaretlememe olasılığı 0'dır.\n",
        "\n",
        "$\n",
        "SoruIsaretleme = \\begin{array}{c|cc} & \n",
        "\\mathbf{D} & \\mathbf{Y} & \\mathbf{B}\\\\ \n",
        "\\hline \n",
        "\\mathbf{D} & 0.2 & 0.4 & 0.5 \\\\  \n",
        "\\mathbf{Y} & 0.6 & 0.4 & 0.5 \\\\\n",
        "\\mathbf{B} & 0.2 & 0.2 & 0 \\\\\n",
        "\\end{array}\n",
        "$\n"
      ],
      "metadata": {
        "id": "vhYNY3YEkyw-"
      }
    },
    {
      "cell_type": "markdown",
      "source": [
        "Öğrencinin işaretlediği ilk soru doğru olduğuna göre 5, 10, 15, 20 soru işaretledikten sonra Doğru, Yanlış ve Boş soru işaretleme olasılıklarını hesaplayınız."
      ],
      "metadata": {
        "id": "ujit_kHL91IW"
      }
    },
    {
      "cell_type": "code",
      "source": [
        "# h.ibrahim mohurlu \n",
        "import numpy as np\n",
        "# ilk sorunun dogru isaretlendigi başlangıc olasilik vektorleri.\n",
        "\n",
        "olasilik_normal = olasilik_ozel = [1,0,0]\n",
        "\n",
        "# ozel durumun dahil edildigi ve edilmedigi olasilik vektoru.\n",
        "# soru_isaretleme[0] özel, soru_isaretleme[1] normal durum.\n",
        "\n",
        "soru_isaretleme=[\n",
        "                 [\n",
        "                  [0.2, 0.4, 0.5],\n",
        "                  [0.6, 0.4, 0.5],\n",
        "                  [0.2, 0.2, 0]\n",
        "                ],\n",
        "                 [\n",
        "                  [0.3, 0.3, 0.3],\n",
        "                  [0.5, 0.5, 0.5],\n",
        "                  [0.2, 0.2, 0.2]\n",
        "                 ]\n",
        "                ]\n",
        "\n",
        "#matris carpimindan önceki degiskenler\n",
        "#olasilik_dogru = 1\n",
        "#olasilik_yanlis = 0\n",
        "#olasilik_bos = 0\n",
        "\n",
        "iterasyonlar=[5, 10, 15, 20]\n",
        "\n",
        "for iter in iterasyonlar:\n",
        "\n",
        "  for i in range(iter):\n",
        "    yeni_olasilik_ozel = np.matmul(soru_isaretleme[0],olasilik_ozel)\n",
        "    yeni_olasilik_normal = np.matmul(soru_isaretleme[1],olasilik_normal)\n",
        "    olasilik_ozel = yeni_olasilik_ozel\n",
        "    olasilik_normal=yeni_olasilik_normal\n",
        "    \n",
        "    #matris carpimindan önceki cözüm\n",
        "    #\n",
        "    #yeni_olasilik_dogru = olasilik_dogru * 0.2 + olasilik_yanlis * 0.4 + olasilik_bos * 0.5\n",
        "    #yeni_olasilik_yanlis = olasilik_dogru * 0.6 + olasilik_yanlis * 0.4 + olasilik_bos * 0.5\n",
        "    #yeni_olasilik_bos = olasilik_dogru * 0.2 + olasilik_yanlis * 0.2 + olasilik_bos * 0\n",
        "    #\n",
        "    #olasilik_dogru = yeni_olasilik_dogru\n",
        "    #olasilik_yanlis = yeni_olasilik_yanlis\n",
        "    #olasilik_bos = yeni_olasilik_bos\n",
        "\n",
        "  print(str(iter) + \" soruda özel durumlar dahil ise\")\n",
        "  print(\"Doğru soru işaretleme olasılığı = \" + str(olasilik_ozel[0]))\n",
        "  print(\"Yanlış soru işaretleme olasılığı = \" + str(olasilik_ozel[1]))\n",
        "  print(\"Boş soru işaretleme olasılığı = \" + str(olasilik_ozel[2]))\n",
        "  print(\"Toplam olasılık = \" + str(np.sum(olasilik_ozel)))\n",
        "  print()\n",
        "  print(str(iter) + \" soruda özel durumlar dahil DEGİL ise\")\n",
        "  print(\"Doğru soru işaretleme olasılığı = \" + str(olasilik_normal[0]))\n",
        "  print(\"Yanlış soru işaretleme olasılığı = \" + str(olasilik_normal[1]))\n",
        "  print(\"Boş soru işaretleme olasılığı = \" + str(olasilik_normal[2]))\n",
        "  print(\"Toplam olasılık = \" + str(np.sum(olasilik_normal)))\n",
        "  print(\"-------------------------------------------------\")"
      ],
      "metadata": {
        "colab": {
          "base_uri": "https://localhost:8080/"
        },
        "id": "epRxS47b-Bd-",
        "outputId": "2a4b7ee2-6b3d-4faa-84b8-9db0e22ecab5"
      },
      "execution_count": 18,
      "outputs": [
        {
          "output_type": "stream",
          "name": "stdout",
          "text": [
            "5 soruda özel durumlar dahil ise\n",
            "Doğru soru işaretleme olasılığı = 0.34688\n",
            "Yanlış soru işaretleme olasılığı = 0.48640000000000005\n",
            "Boş soru işaretleme olasılığı = 0.16672000000000003\n",
            "Toplam olasılık = 1.0\n",
            "\n",
            "5 soruda özel durumlar dahil DEĞİL ise\n",
            "Doğru soru işaretleme olasılığı = 0.3\n",
            "Yanlış soru işaretleme olasılığı = 0.5\n",
            "Boş soru işaretleme olasılığı = 0.2\n",
            "Toplam olasılık = 1.0\n",
            "-------------------------------------------------\n",
            "10 soruda özel durumlar dahil ise\n",
            "Doğru soru işaretleme olasılığı = 0.3472222221598721\n",
            "Yanlış soru işaretleme olasılığı = 0.48611111116800015\n",
            "Boş soru işaretleme olasılığı = 0.16666666667212804\n",
            "Toplam olasılık = 1.0000000000000004\n",
            "\n",
            "10 soruda özel durumlar dahil DEĞİL ise\n",
            "Doğru soru işaretleme olasılığı = 0.3\n",
            "Yanlış soru işaretleme olasılığı = 0.5\n",
            "Boş soru işaretleme olasılığı = 0.2\n",
            "Toplam olasılık = 1.0\n",
            "-------------------------------------------------\n",
            "15 soruda özel durumlar dahil ise\n",
            "Doğru soru işaretleme olasılığı = 0.3472222222222224\n",
            "Yanlış soru işaretleme olasılığı = 0.4861111111111113\n",
            "Boş soru işaretleme olasılığı = 0.16666666666666674\n",
            "Toplam olasılık = 1.0000000000000004\n",
            "\n",
            "15 soruda özel durumlar dahil DEĞİL ise\n",
            "Doğru soru işaretleme olasılığı = 0.3\n",
            "Yanlış soru işaretleme olasılığı = 0.5\n",
            "Boş soru işaretleme olasılığı = 0.2\n",
            "Toplam olasılık = 1.0\n",
            "-------------------------------------------------\n",
            "20 soruda özel durumlar dahil ise\n",
            "Doğru soru işaretleme olasılığı = 0.3472222222222224\n",
            "Yanlış soru işaretleme olasılığı = 0.4861111111111113\n",
            "Boş soru işaretleme olasılığı = 0.16666666666666674\n",
            "Toplam olasılık = 1.0000000000000004\n",
            "\n",
            "20 soruda özel durumlar dahil DEĞİL ise\n",
            "Doğru soru işaretleme olasılığı = 0.3\n",
            "Yanlış soru işaretleme olasılığı = 0.5\n",
            "Boş soru işaretleme olasılığı = 0.2\n",
            "Toplam olasılık = 1.0\n",
            "-------------------------------------------------\n"
          ]
        }
      ]
    }
  ]
}